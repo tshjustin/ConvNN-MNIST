{
 "cells": [
  {
   "cell_type": "markdown",
   "metadata": {},
   "source": [
    "# Part 2.2\n",
    "Train a model to detect MNIST\n",
    "Be \"creative with your model definitions"
   ]
  },
  {
   "cell_type": "code",
   "execution_count": 2,
   "metadata": {},
   "outputs": [],
   "source": [
    "import torch \n",
    "import torch.nn as nn"
   ]
  },
  {
   "cell_type": "code",
   "execution_count": null,
   "metadata": {},
   "outputs": [],
   "source": [
    "# = Definition\n",
    "\n",
    "# Model definition\n",
    "\n",
    "# Loss function definition\n",
    "\n",
    "# Optimizer definition"
   ]
  },
  {
   "cell_type": "code",
   "execution_count": null,
   "metadata": {},
   "outputs": [],
   "source": [
    "# Load data\n",
    "\n",
    "losses_over_time = []\n",
    "# Training loop\n",
    "\n",
    "# Add the loss \n",
    "\n",
    "# Plot the loss_over_time graph\n"
   ]
  },
  {
   "cell_type": "code",
   "execution_count": null,
   "metadata": {},
   "outputs": [],
   "source": [
    "# Save the model to .pth"
   ]
  },
  {
   "cell_type": "markdown",
   "metadata": {},
   "source": [
    "# Part 2.3\n",
    "Do write a lot of code snippets to make sure that things are correct.\n",
    "\n",
    "Leave them here so that we could see that you have tried\n",
    "\n"
   ]
  },
  {
   "cell_type": "code",
   "execution_count": 1,
   "metadata": {},
   "outputs": [
    {
     "name": "stdout",
     "output_type": "stream",
     "text": [
      "d:\\NTU\\MLDA-2024\\Homework\n",
      "d:\\NTU\\MLDA-2024\\Homework\\MNIST - JPG - testing\n"
     ]
    }
   ],
   "source": [
    "# Here you will try out how to access directories\n",
    "\n",
    "# Get the current directory\n",
    "# Directory manipulation\n",
    "import os\n",
    "\n",
    "test_directory = \"MNIST - JPG - testing\"\n",
    "training_directory = \"MNIST - JPG - training\"\n",
    "\n",
    "print(os.getcwd())\n",
    "\n",
    "full_test_directory = os.path.join(os.getcwd(), test_directory)\n",
    "print(full_test_directory)\n",
    "\n",
    "\n",
    "# Get all the names in the directory\n",
    "# Explore how to use this glob library to get all image name\n",
    "import glob\n",
    "\n"
   ]
  },
  {
   "cell_type": "markdown",
   "metadata": {},
   "source": [
    "## Dataset and DataLoader\n",
    "Follow this link https://pytorch.org/tutorials/beginner/basics/data_tutorial.html \n",
    "- Define the Dataset Class with 3 functions to get item\n",
    "- Use the Dataloader in the training loop\n",
    "- Iterate through the dataloader in the training loop"
   ]
  },
  {
   "cell_type": "code",
   "execution_count": null,
   "metadata": {},
   "outputs": [],
   "source": []
  },
  {
   "cell_type": "code",
   "execution_count": null,
   "metadata": {},
   "outputs": [],
   "source": []
  }
 ],
 "metadata": {
  "kernelspec": {
   "display_name": "environment",
   "language": "python",
   "name": "environment"
  },
  "language_info": {
   "codemirror_mode": {
    "name": "ipython",
    "version": 3
   },
   "file_extension": ".py",
   "mimetype": "text/x-python",
   "name": "python",
   "nbconvert_exporter": "python",
   "pygments_lexer": "ipython3",
   "version": "3.8.18"
  }
 },
 "nbformat": 4,
 "nbformat_minor": 4
}
