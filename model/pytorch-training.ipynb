{
 "cells": [
  {
   "cell_type": "markdown",
   "metadata": {},
   "source": [
    "## Overview \n",
    "\n",
    "1. Pytorch & Tensorflow implementations are both tested and validated with the same number of Conv, Pooling and Linear Layers. \n",
    "\n",
    "2. Different number of layers are also used to test if it affects model accuracy. "
   ]
  },
  {
   "cell_type": "code",
   "execution_count": 1,
   "metadata": {},
   "outputs": [],
   "source": [
    "import torch \n",
    "import torch.nn as nn\n",
    "import torch.optim as optim\n",
    "import matplotlib.pyplot as plt"
   ]
  },
  {
   "cell_type": "markdown",
   "metadata": {},
   "source": [
    "### 1.1 Using Pytorch Convolutional Neural Network\n",
    "\n",
    "**Model**: 2 Blocks of Convolutional-Maxpool pairs are used, with an activation function ReLu used.\n",
    "\n",
    "**From Convolutional Layers to Linear Layers**\n",
    "After going through the convolution layers, we would get an output x, such that x.shape = `[10,12,5,5]`, which implies:\n",
    "\n",
    "1. We have 10 images in a batch \n",
    "\n",
    "2. Each image have 12 channels / Feature maps \n",
    "\n",
    "3. Each feature map is of size 5x5 \n",
    "\n",
    "When we pass it into the linear layers, we must flatten all the feature maps into a single vector. Keeping the dimension of the reshaped tensor to be the total element, we perform `x.view(x.size(0))`, as `x.size(0)` retrieves the number of images in the batch.\n",
    "\n",
    "The remaining parameters should also be evalutated into a single vector, instead of `channels * mat_dim * mat_dim`,  thus `x.view(x.size(0), -1)` would evaluate these parameters in Pytorch."
   ]
  },
  {
   "cell_type": "code",
   "execution_count": 2,
   "metadata": {},
   "outputs": [],
   "source": [
    "class Network(nn.Module):\n",
    "\n",
    "    def __init__(self):\n",
    "        super(Network, self).__init__()\n",
    "        self.conv_layers = nn.Sequential( # Sequential wraps the layers - In this case, we seperate into the base and head layer. \n",
    "                nn.Conv2d(in_channels=1, out_channels=12, kernel_size=3, padding=1, stride=1), \n",
    "                nn.ReLU(), \n",
    "                nn.MaxPool2d(kernel_size=2),\n",
    "                nn.Conv2d(in_channels=12, out_channels=24, kernel_size=3, padding=1, stride=1), \n",
    "                nn.ReLU(),\n",
    "                nn.MaxPool2d(kernel_size=2) \n",
    "        )\n",
    "        self.linear_layers  = nn.Sequential(\n",
    "                nn.Linear(in_features=24*7*7, out_features=64),           \n",
    "                nn.ReLU(),\n",
    "                nn.Dropout(p=0.1),\n",
    "                nn.Linear(in_features=64, out_features=10)\n",
    "        )\n",
    "\n",
    "    def forward(self, x):\n",
    "        '''\n",
    "        Passes the input through each defined layers \n",
    "        '''\n",
    "        x = self.conv_layers(x) \n",
    "        x = x.view(x.size(0), -1) # \n",
    "        x = self.linear_layers (x) \n",
    "        return x # returns a raw score for each class (10 in this case) that is passed into softmax function for a probability (label)\n",
    "        \n",
    "net = Network()\n",
    "optimizer = optim.SGD(net.parameters(), lr=0.01) # update rule of the network weights\n",
    "criterion = nn.CrossEntropyLoss() # loss function"
   ]
  },
  {
   "cell_type": "markdown",
   "metadata": {},
   "source": [
    "### 1.2 Loading of Data and batching it to feed into the model \n",
    "\n",
    "`Pytorch Dataloader` is used to load batches of data inside and randomizes the batch for training\n",
    "\n",
    "`__len__` : len(dataset) returns the size of the dataset.\n",
    "\n",
    "`__getitem__` to support the indexing such that dataset[i] can be used to get ith sample."
   ]
  },
  {
   "cell_type": "code",
   "execution_count": 18,
   "metadata": {},
   "outputs": [],
   "source": [
    "import os\n",
    "from PIL import Image\n",
    "from torch.utils.data import Dataset, DataLoader\n",
    "from torchvision import transforms\n",
    "import glob\n",
    "\n",
    "test_directory = \"../MNIST Dataset JPG format/MNIST - JPG - testing\"\n",
    "training_directory = '../MNIST Dataset JPG format/MNIST - JPG - training'\n",
    "\n",
    "class CustomDataset(Dataset):\n",
    "    def __init__(self, directory, transform=None):\n",
    "        '''\n",
    "        Contains Train & Test folders with folders labelled 0 - 9. \n",
    "        \n",
    "        In each folder contains a handwritten digit of the labelled folder number, but the image names are unanalogous to the number shown\n",
    "        '''\n",
    "        self.directory = directory\n",
    "        self.transform = transform\n",
    "        self.image_paths = []\n",
    "        self.labels = []\n",
    "\n",
    "        for label in range(10): # 0 , 1 , 2 ... 9 \n",
    "            subfolder = os.path.join(directory, str(label))\n",
    "            for image_path in glob.glob(os.path.join(subfolder, '*.jpg')): # Wildcard to match all the image name in the subfolder | glob finds all the pathnames of the specified path\n",
    "                self.image_paths.append(image_path)\n",
    "                self.labels.append(label)\n",
    "                '''\n",
    "                image_paths would be an array of file path from all subfolders\n",
    "                \n",
    "                labels would be also an array of the same size, and the same index of the labels array matches the index of the image paths \n",
    "                '''\n",
    "\n",
    "    def __len__(self):\n",
    "        return len(self.image_paths)\n",
    "\n",
    "    def __getitem__(self, idx):\n",
    "            image_path = self.image_paths[idx]\n",
    "            image = Image.open(image_path).convert('L')  # Convert to grayscale\n",
    "            label = self.labels[idx]\n",
    "\n",
    "            if self.transform:\n",
    "                image = self.transform(image)\n",
    "\n",
    "            return image, label\n",
    "\n",
    "# Transforms such that the image can be fitted into the mdoel \n",
    "transform = transforms.Compose([\n",
    "    transforms.Grayscale(),  # grayscale image \n",
    "    transforms.Resize((28, 28)),  # Resize \n",
    "    transforms.ToTensor(),  # Convert to tensor\n",
    "    transforms.Normalize((0.5,), (0.5,)) # Normalize\n",
    "])"
   ]
  },
  {
   "cell_type": "markdown",
   "metadata": {},
   "source": [
    "#### 1.2.1 Testing the Custom Dataset Class "
   ]
  },
  {
   "cell_type": "code",
   "execution_count": 26,
   "metadata": {},
   "outputs": [
    {
     "name": "stdout",
     "output_type": "stream",
     "text": [
      "Labels Array [0, 0, 0, 0, 0, 0, 0, 0, 0, 0, 0, 0, 0, 0, 0, 0, 0, 0, 0, 0, 0, 0, 0, 0, 0, 0, 0, 0, 0, 0]\n",
      "Path Array ['../MNIST Dataset JPG format/MNIST - JPG - training\\\\0\\\\1.jpg', '../MNIST Dataset JPG format/MNIST - JPG - training\\\\0\\\\1000.jpg', '../MNIST Dataset JPG format/MNIST - JPG - training\\\\0\\\\10005.jpg', '../MNIST Dataset JPG format/MNIST - JPG - training\\\\0\\\\10010.jpg', '../MNIST Dataset JPG format/MNIST - JPG - training\\\\0\\\\10022.jpg', '../MNIST Dataset JPG format/MNIST - JPG - training\\\\0\\\\10025.jpg', '../MNIST Dataset JPG format/MNIST - JPG - training\\\\0\\\\10026.jpg', '../MNIST Dataset JPG format/MNIST - JPG - training\\\\0\\\\10045.jpg', '../MNIST Dataset JPG format/MNIST - JPG - training\\\\0\\\\10069.jpg', '../MNIST Dataset JPG format/MNIST - JPG - training\\\\0\\\\10071.jpg', '../MNIST Dataset JPG format/MNIST - JPG - training\\\\0\\\\10080.jpg', '../MNIST Dataset JPG format/MNIST - JPG - training\\\\0\\\\10083.jpg', '../MNIST Dataset JPG format/MNIST - JPG - training\\\\0\\\\10107.jpg', '../MNIST Dataset JPG format/MNIST - JPG - training\\\\0\\\\10119.jpg', '../MNIST Dataset JPG format/MNIST - JPG - training\\\\0\\\\10120.jpg', '../MNIST Dataset JPG format/MNIST - JPG - training\\\\0\\\\10121.jpg', '../MNIST Dataset JPG format/MNIST - JPG - training\\\\0\\\\10128.jpg', '../MNIST Dataset JPG format/MNIST - JPG - training\\\\0\\\\10140.jpg', '../MNIST Dataset JPG format/MNIST - JPG - training\\\\0\\\\1015.jpg', '../MNIST Dataset JPG format/MNIST - JPG - training\\\\0\\\\10167.jpg', '../MNIST Dataset JPG format/MNIST - JPG - training\\\\0\\\\10168.jpg', '../MNIST Dataset JPG format/MNIST - JPG - training\\\\0\\\\10176.jpg', '../MNIST Dataset JPG format/MNIST - JPG - training\\\\0\\\\1018.jpg', '../MNIST Dataset JPG format/MNIST - JPG - training\\\\0\\\\10188.jpg', '../MNIST Dataset JPG format/MNIST - JPG - training\\\\0\\\\10195.jpg', '../MNIST Dataset JPG format/MNIST - JPG - training\\\\0\\\\10203.jpg', '../MNIST Dataset JPG format/MNIST - JPG - training\\\\0\\\\10204.jpg', '../MNIST Dataset JPG format/MNIST - JPG - training\\\\0\\\\10221.jpg', '../MNIST Dataset JPG format/MNIST - JPG - training\\\\0\\\\10230.jpg', '../MNIST Dataset JPG format/MNIST - JPG - training\\\\0\\\\10237.jpg']\n"
     ]
    }
   ],
   "source": [
    "testing_custom_data = CustomDataset(training_directory, transform=transform)\n",
    "\n",
    "print('Labels Array', testing_custom_data.labels[:30]) \n",
    "print('Path Array', testing_custom_data.image_paths[:30]) "
   ]
  },
  {
   "cell_type": "code",
   "execution_count": 27,
   "metadata": {},
   "outputs": [
    {
     "data": {
      "image/png": "[encoded data removed]",
      "text/plain": [
       "<Figure size 640x480 with 1 Axes>"
      ]
     },
     "metadata": {},
     "output_type": "display_data"
    },
    {
     "data": {
      "image/png": "[encoded data removed]",
      "text/plain": [
       "<Figure size 640x480 with 1 Axes>"
      ]
     },
     "metadata": {},
     "output_type": "display_data"
    },
    {
     "data": {
      "image/png": "[encoded data removed]",
      "text/plain": [
       "<Figure size 640x480 with 1 Axes>"
      ]
     },
     "metadata": {},
     "output_type": "display_data"
    }
   ],
   "source": [
    "# show image\n",
    "def show_image(img, label):\n",
    "    img = img.numpy().squeeze()\n",
    "    plt.imshow(img, cmap=\"gray\")\n",
    "    plt.title(f\"Label: {label}\")\n",
    "    plt.show()\n",
    "\n",
    "# Test data loader \n",
    "for i in range(3):\n",
    "    image, label = testing_custom_data[i]\n",
    "    show_image(image, label)"
   ]
  },
  {
   "cell_type": "markdown",
   "metadata": {},
   "source": [
    "#### 1.2.2 Testing the Dataloader that helps to batch the data for training \n",
    "\n",
    "Dataloader samples different singular points from the defined 1D array and gathers 64 Points randomly. \n",
    "\n",
    "The `DataLoader` yields an iteratable, from a queue of batches. Iterating through the object would give us our batches. Number of Batches = Total Samples / Batch Size \n",
    "\n",
    "Each batch contains 64 data points as specified. When these images are loaded into a tensor for a batch, the tensor's shape is `[batch_size, channels, height, width]`, with the height and width forming a 28x28 matrix in this context, and the indiviudal points being a numeric feature of the MNIST image."
   ]
  },
  {
   "cell_type": "code",
   "execution_count": 37,
   "metadata": {},
   "outputs": [
    {
     "name": "stdout",
     "output_type": "stream",
     "text": [
      "tensor([[[[-1.0000, -0.9373, -0.9529,  ..., -1.0000, -1.0000, -1.0000],\n",
      "          [-1.0000, -1.0000, -1.0000,  ..., -1.0000, -1.0000, -1.0000],\n",
      "          [-0.9922, -1.0000, -1.0000,  ..., -1.0000, -1.0000, -1.0000],\n",
      "          ...,\n",
      "          [-1.0000, -1.0000, -1.0000,  ..., -1.0000, -1.0000, -1.0000],\n",
      "          [-1.0000, -1.0000, -1.0000,  ..., -1.0000, -1.0000, -1.0000],\n",
      "          [-1.0000, -1.0000, -1.0000,  ..., -1.0000, -1.0000, -1.0000]]],\n",
      "\n",
      "\n",
      "        [[[-1.0000, -1.0000, -1.0000,  ..., -1.0000, -1.0000, -1.0000],\n",
      "          [-1.0000, -1.0000, -1.0000,  ..., -1.0000, -1.0000, -1.0000],\n",
      "          [-1.0000, -1.0000, -1.0000,  ..., -1.0000, -1.0000, -1.0000],\n",
      "          ...,\n",
      "          [-1.0000, -1.0000, -1.0000,  ..., -1.0000, -1.0000, -1.0000],\n",
      "          [-1.0000, -1.0000, -1.0000,  ..., -1.0000, -1.0000, -1.0000],\n",
      "          [-1.0000, -1.0000, -1.0000,  ..., -1.0000, -1.0000, -1.0000]]],\n",
      "\n",
      "\n",
      "        [[[-1.0000, -1.0000, -1.0000,  ..., -1.0000, -1.0000, -1.0000],\n",
      "          [-1.0000, -1.0000, -1.0000,  ..., -1.0000, -1.0000, -1.0000],\n",
      "          [-1.0000, -1.0000, -1.0000,  ..., -1.0000, -1.0000, -1.0000],\n",
      "          ...,\n",
      "          [-1.0000, -1.0000, -1.0000,  ..., -1.0000, -1.0000, -1.0000],\n",
      "          [-1.0000, -1.0000, -1.0000,  ..., -1.0000, -1.0000, -1.0000],\n",
      "          [-1.0000, -1.0000, -1.0000,  ..., -1.0000, -1.0000, -1.0000]]],\n",
      "\n",
      "\n",
      "        ...,\n",
      "\n",
      "\n",
      "        [[[-1.0000, -1.0000, -1.0000,  ..., -1.0000, -1.0000, -1.0000],\n",
      "          [-1.0000, -1.0000, -1.0000,  ..., -1.0000, -1.0000, -1.0000],\n",
      "          [-1.0000, -1.0000, -1.0000,  ..., -1.0000, -1.0000, -1.0000],\n",
      "          ...,\n",
      "          [-1.0000, -1.0000, -1.0000,  ..., -1.0000, -1.0000, -1.0000],\n",
      "          [-1.0000, -1.0000, -1.0000,  ..., -1.0000, -1.0000, -1.0000],\n",
      "          [-1.0000, -1.0000, -1.0000,  ..., -1.0000, -1.0000, -1.0000]]],\n",
      "\n",
      "\n",
      "        [[[-1.0000, -1.0000, -1.0000,  ..., -1.0000, -1.0000, -1.0000],\n",
      "          [-1.0000, -1.0000, -1.0000,  ..., -1.0000, -1.0000, -1.0000],\n",
      "          [-1.0000, -1.0000, -1.0000,  ..., -1.0000, -1.0000, -1.0000],\n",
      "          ...,\n",
      "          [-1.0000, -1.0000, -1.0000,  ..., -1.0000, -1.0000, -1.0000],\n",
      "          [-1.0000, -1.0000, -1.0000,  ..., -1.0000, -1.0000, -1.0000],\n",
      "          [-1.0000, -1.0000, -1.0000,  ..., -1.0000, -1.0000, -1.0000]]],\n",
      "\n",
      "\n",
      "        [[[-1.0000, -1.0000, -1.0000,  ..., -1.0000, -1.0000, -1.0000],\n",
      "          [-1.0000, -1.0000, -1.0000,  ..., -1.0000, -1.0000, -1.0000],\n",
      "          [-1.0000, -1.0000, -1.0000,  ..., -1.0000, -1.0000, -1.0000],\n",
      "          ...,\n",
      "          [-1.0000, -1.0000, -1.0000,  ..., -1.0000, -1.0000, -1.0000],\n",
      "          [-1.0000, -1.0000, -1.0000,  ..., -1.0000, -1.0000, -1.0000],\n",
      "          [-1.0000, -1.0000, -1.0000,  ..., -1.0000, -1.0000, -1.0000]]]])\n",
      "tensor([2, 8, 3, 4, 8, 7, 0, 7, 8, 0, 6, 8, 8, 3, 4, 8, 5, 1, 6, 8, 9, 6, 7, 0,\n",
      "        9, 4, 4, 1, 0, 0, 9, 4, 7, 6, 4, 3, 1, 4, 8, 1, 1, 5, 3, 7, 9, 3, 9, 0,\n",
      "        2, 8, 1, 0, 5, 7, 3, 9, 2, 3, 6, 5, 6, 9, 5, 7])\n"
     ]
    }
   ],
   "source": [
    "testing_loader = DataLoader(testing_custom_data, batch_size=64, shuffle=True)\n",
    "\n",
    "features, labels = next(iter(testing_loader)) # Converts the testing loader into an iterator to iterate from, next(.) retrieves the next item in the iterator.  \n",
    "print(features) # Output of dataloader would yield a pair of features (in the form of tensor) & their respective labels \n",
    "print(labels)"
   ]
  },
  {
   "cell_type": "markdown",
   "metadata": {},
   "source": [
    "### 1.3 Training of model \n",
    "\n",
    "During each epoch, we train and test the model. We should expect both drop in loss for training and evaluation in each epoch."
   ]
  },
  {
   "cell_type": "code",
   "execution_count": 38,
   "metadata": {},
   "outputs": [
    {
     "name": "stderr",
     "output_type": "stream",
     "text": [
      "                                                                         \r"
     ]
    },
    {
     "name": "stdout",
     "output_type": "stream",
     "text": [
      "Epoch 1/10, Training Loss: 1.457948869717782, Validation Loss: 0.3310965320486931\n"
     ]
    },
    {
     "name": "stderr",
     "output_type": "stream",
     "text": [
      "                                                                          \r"
     ]
    },
    {
     "name": "stdout",
     "output_type": "stream",
     "text": [
      "Epoch 2/10, Training Loss: 0.2647860849907657, Validation Loss: 0.1610254124044233\n"
     ]
    },
    {
     "name": "stderr",
     "output_type": "stream",
     "text": [
      "                                                                          \r"
     ]
    },
    {
     "name": "stdout",
     "output_type": "stream",
     "text": [
      "Epoch 3/10, Training Loss: 0.16909149679532057, Validation Loss: 0.11343073803385731\n"
     ]
    },
    {
     "name": "stderr",
     "output_type": "stream",
     "text": [
      "                                                                          \r"
     ]
    },
    {
     "name": "stdout",
     "output_type": "stream",
     "text": [
      "Epoch 4/10, Training Loss: 0.12990057492243456, Validation Loss: 0.08731826387084783\n"
     ]
    },
    {
     "name": "stderr",
     "output_type": "stream",
     "text": [
      "                                                                          \r"
     ]
    },
    {
     "name": "stdout",
     "output_type": "stream",
     "text": [
      "Epoch 5/10, Training Loss: 0.10951614659875314, Validation Loss: 0.0791523511029163\n"
     ]
    },
    {
     "name": "stderr",
     "output_type": "stream",
     "text": [
      "                                                                          \r"
     ]
    },
    {
     "name": "stdout",
     "output_type": "stream",
     "text": [
      "Epoch 6/10, Training Loss: 0.09467655496655909, Validation Loss: 0.06875322324336525\n"
     ]
    },
    {
     "name": "stderr",
     "output_type": "stream",
     "text": [
      "                                                                           \r"
     ]
    },
    {
     "name": "stdout",
     "output_type": "stream",
     "text": [
      "Epoch 7/10, Training Loss: 0.0851335146877446, Validation Loss: 0.05949900076861025\n"
     ]
    },
    {
     "name": "stderr",
     "output_type": "stream",
     "text": [
      "                                                                           \r"
     ]
    },
    {
     "name": "stdout",
     "output_type": "stream",
     "text": [
      "Epoch 8/10, Training Loss: 0.0767255085515482, Validation Loss: 0.0582579398842137\n"
     ]
    },
    {
     "name": "stderr",
     "output_type": "stream",
     "text": [
      "                                                                           \r"
     ]
    },
    {
     "name": "stdout",
     "output_type": "stream",
     "text": [
      "Epoch 9/10, Training Loss: 0.07122853891487156, Validation Loss: 0.05052659131147584\n"
     ]
    },
    {
     "name": "stderr",
     "output_type": "stream",
     "text": [
      "                                                                            \r"
     ]
    },
    {
     "name": "stdout",
     "output_type": "stream",
     "text": [
      "Epoch 10/10, Training Loss: 0.06613721998720201, Validation Loss: 0.04871721670423059\n"
     ]
    },
    {
     "data": {
      "image/png": "[encoded data removed]",
      "text/plain": [
       "<Figure size 1000x500 with 1 Axes>"
      ]
     },
     "metadata": {},
     "output_type": "display_data"
    }
   ],
   "source": [
    "from tqdm import tqdm\n",
    "\n",
    "# Initialize custom datasets\n",
    "training_dataset = CustomDataset(training_directory, transform=transform)\n",
    "testing_dataset = CustomDataset(test_directory, transform=transform)\n",
    "\n",
    "# Data loaders\n",
    "train_loader = DataLoader(training_dataset, batch_size=64, shuffle=True)\n",
    "test_loader = DataLoader(testing_dataset, batch_size=64, shuffle=True)\n",
    "\n",
    "# lists for tracking losses\n",
    "train_losses = []\n",
    "val_losses = []\n",
    "\n",
    "num_epochs = 10\n",
    "for epoch in range(num_epochs):\n",
    "    net.train()  # Set the model to training mode\n",
    "    total_train_loss = 0\n",
    "\n",
    "    progress_bar = tqdm(train_loader, desc=f'Epoch {epoch+1}/{num_epochs}', leave=False)\n",
    "\n",
    "    for images, labels in progress_bar:\n",
    "        outputs = net(images) # Forward pass \n",
    "        \n",
    "        loss = criterion(outputs, labels) # Calcualtes loss from each pass \n",
    "\n",
    "        optimizer.zero_grad() # Clears the old gradient\n",
    "        loss.backward() # Backward pass\n",
    "        optimizer.step() # optimization\n",
    "\n",
    "        total_train_loss += loss.item()\n",
    "        \n",
    "        progress_bar.set_postfix(loss=loss.item())\n",
    "\n",
    "    # Calculate average training loss for the epoch\n",
    "    avg_train_loss = total_train_loss / len(train_loader)\n",
    "    train_losses.append(avg_train_loss)\n",
    "\n",
    "    # Validation step - Evalutates model on Test data. A lower loss means that infered image is close to actual image, hence lower is better \n",
    "    net.eval()  # evaluation mode\n",
    "    total_val_loss = 0\n",
    "    with torch.no_grad(): # no_grad is used for training, in evalutaion we disable it to save compuatational power \n",
    "        for images, labels in test_loader:\n",
    "            outputs = net(images)\n",
    "            loss = criterion(outputs, labels)\n",
    "            total_val_loss += loss.item()\n",
    "\n",
    "    # Calculate average validation loss for the epoch\n",
    "    avg_val_loss = total_val_loss / len(test_loader)\n",
    "    val_losses.append(avg_val_loss)\n",
    "\n",
    "    print(f'Epoch {epoch+1}/{num_epochs}, Training Loss: {avg_train_loss}, Validation Loss: {avg_val_loss}')\n",
    "\n",
    "# Plot the training and validation losses\n",
    "plt.figure(figsize=(10, 5))\n",
    "plt.plot(train_losses, label='Training Loss')\n",
    "plt.plot(val_losses, label='Validation Loss')\n",
    "plt.title('Training and Validation Loss Over Time')\n",
    "plt.xlabel('Epoch')\n",
    "plt.ylabel('Loss')\n",
    "plt.legend()\n",
    "plt.show()"
   ]
  },
  {
   "cell_type": "markdown",
   "metadata": {},
   "source": [
    "### 1.4 Percentage Accuracy of Pytorch model \n",
    "\n",
    "The output from the pass would be a tensor of **Dimension**: `Number of image in a batch * Number of classes predicting`\n",
    "\n",
    "However, the meaning of each row * column = `Score of predicted class` * `Index of class with that assoicated score`\n",
    "\n",
    "Since we have 64 images and 10 classes, we have `64*10`\n",
    "\n",
    "Example of data:\n",
    "\n",
    "...\n",
    "\n",
    "[x1, x2, ..., x10] ,\n",
    "\n",
    "[y1, y2, ..., y10],\n",
    "\n",
    "[z1, z2, ..., z10]\n",
    "\n",
    "`torch.max(outputs, 1)`: Finds the maximum score along the dimension 1 (Columns) of the given tensor. "
   ]
  },
  {
   "cell_type": "code",
   "execution_count": 40,
   "metadata": {},
   "outputs": [
    {
     "name": "stdout",
     "output_type": "stream",
     "text": [
      "Accuracy of Model:  98.47\n"
     ]
    }
   ],
   "source": [
    "net.eval() \n",
    "\n",
    "correct_predictions = 0\n",
    "total_predictions = 0\n",
    "\n",
    "with torch.no_grad():\n",
    "    for images, labels in test_loader:\n",
    "        outputs = net(images) \n",
    "        \n",
    "        _, max_score_index = torch.max(outputs, 1) # ignore the actual predicted score, we just want the index of the class that was predicted \n",
    "        \n",
    "        total_predictions += labels.size(0)\n",
    "\n",
    "        correct_predictions += (max_score_index == labels).sum().item()\n",
    "\n",
    "    accuracy = 100 * correct_predictions / total_predictions\n",
    "\n",
    "    print('Accuracy of Model: ', accuracy)"
   ]
  },
  {
   "cell_type": "code",
   "execution_count": 6,
   "metadata": {},
   "outputs": [],
   "source": [
    "torch.save(net.state_dict(), 'net.pth')"
   ]
  },
  {
   "cell_type": "code",
   "execution_count": 41,
   "metadata": {},
   "outputs": [
    {
     "name": "stdout",
     "output_type": "stream",
     "text": [
      "Number of training data: <bound method CustomDataset.__len__ of <__main__.CustomDataset object at 0x0000022DE4B98DF0>>\n",
      "Number of testing data: <bound method CustomDataset.__len__ of <__main__.CustomDataset object at 0x0000022DE8DF98E0>>\n"
     ]
    }
   ],
   "source": [
    "print(\"Number of training data:\", training_dataset.__len__)\n",
    "print(\"Number of testing data:\", testing_dataset.__len__)"
   ]
  },
  {
   "cell_type": "code",
   "execution_count": null,
   "metadata": {},
   "outputs": [],
   "source": []
  }
 ],
 "metadata": {
  "kernelspec": {
   "display_name": "venv",
   "language": "python",
   "name": "python3"
  },
  "language_info": {
   "codemirror_mode": {
    "name": "ipython",
    "version": 3
   },
   "file_extension": ".py",
   "mimetype": "text/x-python",
   "name": "python",
   "nbconvert_exporter": "python",
   "pygments_lexer": "ipython3",
   "version": "3.8.9"
  }
 },
 "nbformat": 4,
 "nbformat_minor": 4
}
