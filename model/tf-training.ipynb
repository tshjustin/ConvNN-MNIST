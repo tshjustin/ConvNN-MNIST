{
 "cells": [
  {
   "cell_type": "markdown",
   "metadata": {},
   "source": [
    "### Tensorflow implementation of MNIST classfication \n",
    "\n",
    "Model: 2 Convolutional-Maxpool pair, with 32 Filters per layer & 2 Linear Layers"
   ]
  },
  {
   "cell_type": "code",
   "execution_count": 14,
   "metadata": {},
   "outputs": [],
   "source": [
    "from keras.datasets import mnist\n",
    "from keras import layers \n",
    "from keras import models \n",
    "from keras.utils import to_categorical\n",
    "import tensorflow as tf\n",
    "\n",
    "(train_images, train_labels), (test_images, test_labels) = mnist.load_data()"
   ]
  },
  {
   "cell_type": "markdown",
   "metadata": {},
   "source": [
    "### 1.1 Reshaping downloaded data"
   ]
  },
  {
   "cell_type": "code",
   "execution_count": 15,
   "metadata": {},
   "outputs": [],
   "source": [
    "train_images = train_images.reshape((60000,28,28,1)) # reshape the data into 4 dimension for the CNN\n",
    "train_images = train_images.astype('float32')/255 # Converts the pixels from [0,255] -> [0,1]\n",
    "\n",
    "test_images = test_images.reshape((10000,28,28,1)) \n",
    "test_images = test_images.astype('float32')/255\n",
    "\n",
    "train_labels = to_categorical(train_labels)\n",
    "test_labels = to_categorical(test_labels)"
   ]
  },
  {
   "cell_type": "markdown",
   "metadata": {},
   "source": [
    "### 1.2 Developing the Model\n"
   ]
  },
  {
   "cell_type": "code",
   "execution_count": 16,
   "metadata": {},
   "outputs": [],
   "source": [
    "class Network(tf.keras.Model):\n",
    "    def __init__(self):\n",
    "        super(Network, self).__init__()\n",
    "        self.model = models.Sequential([\n",
    "            layers.Conv2D(12, kernel_size=3, padding='same', activation='relu', input_shape=(28, 28, 1)),\n",
    "            layers.MaxPooling2D(pool_size=2),\n",
    "            layers.Conv2D(24, kernel_size=3, padding='same', activation='relu'),\n",
    "            layers.MaxPooling2D(pool_size=2),\n",
    "            layers.Flatten(),\n",
    "            layers.Dense(64, activation='relu'),\n",
    "            layers.Dropout(0.1),\n",
    "            layers.Dense(10, activation='softmax') # multi-class classification\n",
    "        ])\n",
    "        \n",
    "    def call(self, inputs):\n",
    "        return self.model(inputs) # defines the forward pass "
   ]
  },
  {
   "cell_type": "markdown",
   "metadata": {},
   "source": [
    "After defining the model, we need to define the Loss Function & Optimizer "
   ]
  },
  {
   "cell_type": "code",
   "execution_count": 17,
   "metadata": {},
   "outputs": [],
   "source": [
    "model = Network()\n",
    "model.compile(optimizer=tf.keras.optimizers.SGD(learning_rate=0.01), # optimizer \n",
    "              loss='categorical_crossentropy', # loss func \n",
    "              metrics=['accuracy']) # metrics for human evaluation - Our validation loss "
   ]
  },
  {
   "cell_type": "markdown",
   "metadata": {},
   "source": [
    "### 1.3 Training the Model"
   ]
  },
  {
   "cell_type": "code",
   "execution_count": 18,
   "metadata": {},
   "outputs": [
    {
     "name": "stdout",
     "output_type": "stream",
     "text": [
      "Epoch 1/10\n",
      "938/938 [==============================] - 15s 15ms/step - loss: 0.7945 - accuracy: 0.7585\n",
      "Epoch 2/10\n",
      "938/938 [==============================] - 17s 18ms/step - loss: 0.2721 - accuracy: 0.9164\n",
      "Epoch 3/10\n",
      "938/938 [==============================] - 18s 19ms/step - loss: 0.2007 - accuracy: 0.9383\n",
      "Epoch 4/10\n",
      "938/938 [==============================] - 19s 20ms/step - loss: 0.1631 - accuracy: 0.9507\n",
      "Epoch 5/10\n",
      "938/938 [==============================] - 16s 17ms/step - loss: 0.1391 - accuracy: 0.9570\n",
      "Epoch 6/10\n",
      "938/938 [==============================] - 17s 18ms/step - loss: 0.1221 - accuracy: 0.9622\n",
      "Epoch 7/10\n",
      "938/938 [==============================] - 16s 17ms/step - loss: 0.1086 - accuracy: 0.9664\n",
      "Epoch 8/10\n",
      "938/938 [==============================] - 16s 17ms/step - loss: 0.0992 - accuracy: 0.9696\n",
      "Epoch 9/10\n",
      "938/938 [==============================] - 17s 18ms/step - loss: 0.0922 - accuracy: 0.9717\n",
      "Epoch 10/10\n",
      "938/938 [==============================] - 17s 19ms/step - loss: 0.0873 - accuracy: 0.9733\n"
     ]
    },
    {
     "data": {
      "text/plain": [
       "<keras.src.callbacks.History at 0x251b64b3070>"
      ]
     },
     "execution_count": 18,
     "metadata": {},
     "output_type": "execute_result"
    }
   ],
   "source": [
    "model.fit(train_images, train_labels, epochs=10, batch_size=64)"
   ]
  },
  {
   "cell_type": "markdown",
   "metadata": {},
   "source": [
    "### 1.4 Evaluates the model \n",
    "\n",
    "returns `[loss, accuracy]`"
   ]
  },
  {
   "cell_type": "code",
   "execution_count": 21,
   "metadata": {},
   "outputs": [
    {
     "name": "stdout",
     "output_type": "stream",
     "text": [
      "313/313 [==============================] - 1s 3ms/step - loss: 0.0622 - accuracy: 0.9808\n"
     ]
    },
    {
     "data": {
      "text/plain": [
       "98.07999730110168"
      ]
     },
     "execution_count": 21,
     "metadata": {},
     "output_type": "execute_result"
    }
   ],
   "source": [
    "model.evaluate(test_images, test_labels)[1] * 100 "
   ]
  }
 ],
 "metadata": {
  "kernelspec": {
   "display_name": "venv",
   "language": "python",
   "name": "python3"
  },
  "language_info": {
   "codemirror_mode": {
    "name": "ipython",
    "version": 3
   },
   "file_extension": ".py",
   "mimetype": "text/x-python",
   "name": "python",
   "nbconvert_exporter": "python",
   "pygments_lexer": "ipython3",
   "version": "3.8.9"
  }
 },
 "nbformat": 4,
 "nbformat_minor": 2
}
